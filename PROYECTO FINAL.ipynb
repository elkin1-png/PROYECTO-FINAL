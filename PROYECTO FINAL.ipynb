{
 "cells": [
  {
   "cell_type": "markdown",
   "id": "80d63662",
   "metadata": {},
   "source": [
    "# PROYECTO FINAL\n"
   ]
  },
  {
   "cell_type": "markdown",
   "id": "06a84366",
   "metadata": {},
   "source": [
    "# ELKIN BEDOYA ESTUDIANTE DE ESPECIALIZACIÓN DE ANALISIS DE DATOS "
   ]
  },
  {
   "cell_type": "markdown",
   "id": "1bc9a560",
   "metadata": {},
   "source": [
    "# 1.RSTUDIO\n",
    "2.PYTHON\n",
    "3.GITHUB\n",
    "4.GITLAB\n",
    "5.C++\n",
    "6.JAVA"
   ]
  },
  {
   "cell_type": "markdown",
   "id": "33e2e1b6",
   "metadata": {},
   "source": [
    "# 1. PANDAS 2. NUMPY. 3. SKITELEANRNING"
   ]
  },
  {
   "cell_type": "markdown",
   "id": "2d39d4c5",
   "metadata": {},
   "source": [
    "# Azure Synapse. Azure Synapse, evolución de Azure SQL\n",
    "Azure Databricks. ...\n",
    "Azure DataLake. ...\n",
    "Git. ...\n",
    "Azure Machine Learning. ...\n",
    "DeltaLake. ...\n",
    "Power BI. ...\n",
    "Tableau."
   ]
  },
  {
   "cell_type": "markdown",
   "id": "21777201",
   "metadata": {},
   "source": [
    "# EJEMPLOS DE EJERCICIOS MATEMATICOS 1+1 , 2*2,  3/2*3"
   ]
  },
  {
   "cell_type": "code",
   "execution_count": 2,
   "id": "1bc88135",
   "metadata": {},
   "outputs": [
    {
     "name": "stdout",
     "output_type": "stream",
     "text": [
      "3\n"
     ]
    }
   ],
   "source": [
    "RANGO = 1\n",
    "RANGE = 2\n",
    "print(RANGO+RANGE)"
   ]
  },
  {
   "cell_type": "code",
   "execution_count": 4,
   "id": "4a2e2993",
   "metadata": {},
   "outputs": [
    {
     "name": "stdout",
     "output_type": "stream",
     "text": [
      "Ingrese la cantidad de minutos:1209\n",
      "1209 minutos son 20 horas y 9 minutos.\n"
     ]
    }
   ],
   "source": [
    "# Definir una función para convertir minutos en horas y minutos\n",
    "def convertir_minutos_a_horas(minutos):\n",
    "    horas = minutos // 60\n",
    "    minutos_restantes = minutos % 60\n",
    "    return horas, minutos_restantes\n",
    "\n",
    "# Solicitar al usuario que ingrese la cantidad de minutos\n",
    "minutos = int(input(\"Ingrese la cantidad de minutos: \"))\n",
    "\n",
    "# Convertir y mostrar el resultado\n",
    "horas, minutos_restantes = convertir_minutos_a_horas(minutos)\n",
    "print(f\"{minutos} minutos son {horas} horas y {minutos_restantes} minutos.\")\n"
   ]
  },
  {
   "cell_type": "code",
   "execution_count": 6,
   "id": "a5e26c6e",
   "metadata": {},
   "outputs": [
    {
     "name": "stdout",
     "output_type": "stream",
     "text": [
      "Marca: Toyota, Modelo: Corolla, Año: 2020\n",
      "Marca: Ford, Modelo: Mustang, Año: 2021\n",
      "Marca: Honda, Modelo: Civic, Año: 2019\n"
     ]
    }
   ],
   "source": [
    "# Definición de la clase Auto\n",
    "class Auto:\n",
    "    def __init__(self, marca, modelo, año):\n",
    "        self.marca = marca\n",
    "        self.modelo = modelo\n",
    "        self.año = año\n",
    "\n",
    "    def mostrar_info(self):\n",
    "        print(f\"Marca: {self.marca}, Modelo: {self.modelo}, Año: {self.año}\")\n",
    "\n",
    "# Creación de la lista de autos\n",
    "lista_de_autos = [\n",
    "    Auto(\"Toyota\", \"Corolla\", 2020),\n",
    "    Auto(\"Ford\", \"Mustang\", 2021),\n",
    "    Auto(\"Honda\", \"Civic\", 2019)\n",
    "]\n",
    "\n",
    "# Listar los autos\n",
    "for auto in lista_de_autos:\n",
    "    auto.mostrar_info()\n"
   ]
  },
  {
   "cell_type": "code",
   "execution_count": null,
   "id": "d6f40e73",
   "metadata": {},
   "outputs": [],
   "source": []
  }
 ],
 "metadata": {
  "kernelspec": {
   "display_name": "Python 3 (ipykernel)",
   "language": "python",
   "name": "python3"
  },
  "language_info": {
   "codemirror_mode": {
    "name": "ipython",
    "version": 3
   },
   "file_extension": ".py",
   "mimetype": "text/x-python",
   "name": "python",
   "nbconvert_exporter": "python",
   "pygments_lexer": "ipython3",
   "version": "3.9.13"
  }
 },
 "nbformat": 4,
 "nbformat_minor": 5
}
